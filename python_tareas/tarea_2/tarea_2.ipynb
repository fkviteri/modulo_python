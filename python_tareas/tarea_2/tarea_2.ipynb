{
 "cells": [
  {
   "cell_type": "markdown",
   "metadata": {},
   "source": [
    "#   1. Importar librerías"
   ]
  },
  {
   "cell_type": "code",
   "execution_count": 214,
   "metadata": {},
   "outputs": [],
   "source": [
    "from glob import glob\n",
    "import os\n",
    "import pandas as pd\n",
    "import numpy as np"
   ]
  },
  {
   "cell_type": "markdown",
   "metadata": {},
   "source": [
    "# 2. Acceder a los datos de 'FELICIDAD'"
   ]
  },
  {
   "cell_type": "code",
   "execution_count": 215,
   "metadata": {},
   "outputs": [
    {
     "data": {
      "text/plain": [
       "'c:\\\\Users\\\\fkva_\\\\OneDrive\\\\Escritorio\\\\LIDE\\\\08_Python\\\\python_tareas\\\\tarea_2'"
      ]
     },
     "execution_count": 215,
     "metadata": {},
     "output_type": "execute_result"
    }
   ],
   "source": [
    "# Verificar el directorio de trabajo\n",
    "os.getcwd()"
   ]
  },
  {
   "cell_type": "code",
   "execution_count": 216,
   "metadata": {},
   "outputs": [
    {
     "data": {
      "text/plain": [
       "['datos-de-miercoles\\\\datos\\\\2019\\\\2019-04-17\\\\cambio_lealtades.csv',\n",
       " 'datos-de-miercoles\\\\datos\\\\2019\\\\2019-04-17\\\\personajes_libro.csv',\n",
       " 'datos-de-miercoles\\\\datos\\\\2019\\\\2019-04-17\\\\tiempo_pantalla.csv',\n",
       " 'datos-de-miercoles\\\\datos\\\\2019\\\\2019-04-24\\\\gapminder_es.csv',\n",
       " 'datos-de-miercoles\\\\datos\\\\2019\\\\2019-05-01\\\\comercio_hispanoamerica_mundo_agregado.csv',\n",
       " 'datos-de-miercoles\\\\datos\\\\2019\\\\2019-05-08\\\\datos_uip.csv',\n",
       " 'datos-de-miercoles\\\\datos\\\\2019\\\\2019-05-22\\\\tuberculosis_oms.csv',\n",
       " 'datos-de-miercoles\\\\datos\\\\2019\\\\2019-05-29\\\\mes.csv',\n",
       " 'datos-de-miercoles\\\\datos\\\\2019\\\\2019-05-29\\\\terremotos.csv',\n",
       " 'datos-de-miercoles\\\\datos\\\\2019\\\\2019-06-05\\\\buenos_aires.csv',\n",
       " 'datos-de-miercoles\\\\datos\\\\2019\\\\2019-06-05\\\\cdmx.csv',\n",
       " 'datos-de-miercoles\\\\datos\\\\2019\\\\2019-06-05\\\\rio.csv',\n",
       " 'datos-de-miercoles\\\\datos\\\\2019\\\\2019-06-05\\\\santiago.csv',\n",
       " 'datos-de-miercoles\\\\datos\\\\2019\\\\2019-06-12\\\\vinos.csv',\n",
       " 'datos-de-miercoles\\\\datos\\\\2019\\\\2019-06-19\\\\cambios.csv',\n",
       " 'datos-de-miercoles\\\\datos\\\\2019\\\\2019-06-19\\\\leyes.csv',\n",
       " 'datos-de-miercoles\\\\datos\\\\2019\\\\2019-06-26\\\\capitulos_rladies.csv',\n",
       " 'datos-de-miercoles\\\\datos\\\\2019\\\\2019-06-26\\\\eventos_rladies.csv',\n",
       " 'datos-de-miercoles\\\\datos\\\\2019\\\\2019-07-03\\\\descargas_R.csv',\n",
       " 'datos-de-miercoles\\\\datos\\\\2019\\\\2019-07-03\\\\paquetes_CRAN.csv',\n",
       " 'datos-de-miercoles\\\\datos\\\\2019\\\\2019-07-10\\\\pokemon.csv',\n",
       " 'datos-de-miercoles\\\\datos\\\\2019\\\\2019-07-17\\\\resultados_cmff.csv',\n",
       " 'datos-de-miercoles\\\\datos\\\\2019\\\\2019-07-24\\\\apps_googleplaystore.csv',\n",
       " 'datos-de-miercoles\\\\datos\\\\2019\\\\2019-07-31\\\\la_casa_de_papel.csv',\n",
       " 'datos-de-miercoles\\\\datos\\\\2019\\\\2019-08-07\\\\felicidad.csv',\n",
       " 'datos-de-miercoles\\\\datos\\\\2019\\\\2019-08-14\\\\libertad.csv',\n",
       " 'datos-de-miercoles\\\\datos\\\\2019\\\\2019-08-21\\\\co2.csv',\n",
       " 'datos-de-miercoles\\\\datos\\\\2019\\\\2019-08-21\\\\co2_ingreso.csv',\n",
       " 'datos-de-miercoles\\\\datos\\\\2019\\\\2019-08-28\\\\bicicletas.csv',\n",
       " 'datos-de-miercoles\\\\datos\\\\2019\\\\2019-08-28\\\\estaciones.csv',\n",
       " 'datos-de-miercoles\\\\datos\\\\2019\\\\2019-09-11\\\\incendios.csv',\n",
       " 'datos-de-miercoles\\\\datos\\\\2019\\\\2019-09-11\\\\incendios_pais.csv',\n",
       " 'datos-de-miercoles\\\\datos\\\\2019\\\\2019-10-02\\\\tweets_latinR.csv',\n",
       " 'datos-de-miercoles\\\\datos\\\\2019\\\\2019-10-02\\\\tweets_latinr_conf.csv',\n",
       " 'datos-de-miercoles\\\\datos\\\\2019\\\\2019-10-09\\\\estaciones.csv',\n",
       " 'datos-de-miercoles\\\\datos\\\\2019\\\\2019-10-09\\\\meteo.csv',\n",
       " 'datos-de-miercoles\\\\datos\\\\2019\\\\2019-10-16\\\\empleo_genero.csv',\n",
       " 'datos-de-miercoles\\\\datos\\\\2019\\\\2019-12-04\\\\menstruaccion.csv',\n",
       " 'datos-de-miercoles\\\\datos\\\\2020\\\\2020-02-19\\\\ranking_imdb.csv',\n",
       " 'datos-de-miercoles\\\\datos\\\\2020\\\\2020-03-11\\\\h1n1.csv',\n",
       " 'datos-de-miercoles\\\\datos\\\\2020\\\\2020-03-25\\\\libertad_prensa.csv']"
      ]
     },
     "execution_count": 216,
     "metadata": {},
     "output_type": "execute_result"
    }
   ],
   "source": [
    "# Determinar documentos terminados en .csv\n",
    "glob('*/*/*/*/*.csv')"
   ]
  },
  {
   "cell_type": "code",
   "execution_count": 217,
   "metadata": {},
   "outputs": [],
   "source": [
    "# Determinar el archivo que contiene los datos de 'FELICIDAD'\n",
    "datos = glob('*/*/*/*/*.csv')"
   ]
  },
  {
   "cell_type": "code",
   "execution_count": 218,
   "metadata": {},
   "outputs": [
    {
     "data": {
      "text/html": [
       "<div>\n",
       "<style scoped>\n",
       "    .dataframe tbody tr th:only-of-type {\n",
       "        vertical-align: middle;\n",
       "    }\n",
       "\n",
       "    .dataframe tbody tr th {\n",
       "        vertical-align: top;\n",
       "    }\n",
       "\n",
       "    .dataframe thead th {\n",
       "        text-align: right;\n",
       "    }\n",
       "</style>\n",
       "<table border=\"1\" class=\"dataframe\">\n",
       "  <thead>\n",
       "    <tr style=\"text-align: right;\">\n",
       "      <th></th>\n",
       "      <th>pais</th>\n",
       "      <th>anio</th>\n",
       "      <th>escalera_vida</th>\n",
       "      <th>log_pib</th>\n",
       "      <th>soporte_social</th>\n",
       "      <th>expectativa_vida</th>\n",
       "      <th>libertad</th>\n",
       "      <th>generosidad</th>\n",
       "      <th>percepcion_corrupcion</th>\n",
       "      <th>afecto_positivo</th>\n",
       "      <th>afecto_negativo</th>\n",
       "      <th>confianza</th>\n",
       "      <th>calidad_democracia</th>\n",
       "      <th>calidad_entrega</th>\n",
       "      <th>de_escalera_pais_anio</th>\n",
       "      <th>gini_banco_mundial</th>\n",
       "      <th>gini_banco_mundial_promedio</th>\n",
       "    </tr>\n",
       "  </thead>\n",
       "  <tbody>\n",
       "    <tr>\n",
       "      <th>0</th>\n",
       "      <td>Afghanistán</td>\n",
       "      <td>2008</td>\n",
       "      <td>3.723590</td>\n",
       "      <td>7.168690</td>\n",
       "      <td>0.450662</td>\n",
       "      <td>50.799999</td>\n",
       "      <td>0.718114</td>\n",
       "      <td>0.177889</td>\n",
       "      <td>0.881686</td>\n",
       "      <td>0.517637</td>\n",
       "      <td>0.258195</td>\n",
       "      <td>0.612072</td>\n",
       "      <td>-1.929690</td>\n",
       "      <td>-1.655084</td>\n",
       "      <td>1.774662</td>\n",
       "      <td>NaN</td>\n",
       "      <td>NaN</td>\n",
       "    </tr>\n",
       "    <tr>\n",
       "      <th>1</th>\n",
       "      <td>Afghanistán</td>\n",
       "      <td>2009</td>\n",
       "      <td>4.401778</td>\n",
       "      <td>7.333790</td>\n",
       "      <td>0.552308</td>\n",
       "      <td>51.200001</td>\n",
       "      <td>0.678896</td>\n",
       "      <td>0.200178</td>\n",
       "      <td>0.850035</td>\n",
       "      <td>0.583926</td>\n",
       "      <td>0.237092</td>\n",
       "      <td>0.611545</td>\n",
       "      <td>-2.044093</td>\n",
       "      <td>-1.635025</td>\n",
       "      <td>1.722688</td>\n",
       "      <td>NaN</td>\n",
       "      <td>NaN</td>\n",
       "    </tr>\n",
       "    <tr>\n",
       "      <th>2</th>\n",
       "      <td>Afghanistán</td>\n",
       "      <td>2010</td>\n",
       "      <td>4.758381</td>\n",
       "      <td>7.386629</td>\n",
       "      <td>0.539075</td>\n",
       "      <td>51.599998</td>\n",
       "      <td>0.600127</td>\n",
       "      <td>0.134353</td>\n",
       "      <td>0.706766</td>\n",
       "      <td>0.618265</td>\n",
       "      <td>0.275324</td>\n",
       "      <td>0.299357</td>\n",
       "      <td>-1.991810</td>\n",
       "      <td>-1.617176</td>\n",
       "      <td>1.878622</td>\n",
       "      <td>NaN</td>\n",
       "      <td>NaN</td>\n",
       "    </tr>\n",
       "    <tr>\n",
       "      <th>3</th>\n",
       "      <td>Afghanistán</td>\n",
       "      <td>2011</td>\n",
       "      <td>3.831719</td>\n",
       "      <td>7.415019</td>\n",
       "      <td>0.521104</td>\n",
       "      <td>51.919998</td>\n",
       "      <td>0.495901</td>\n",
       "      <td>0.172137</td>\n",
       "      <td>0.731109</td>\n",
       "      <td>0.611387</td>\n",
       "      <td>0.267175</td>\n",
       "      <td>0.307386</td>\n",
       "      <td>-1.919018</td>\n",
       "      <td>-1.616221</td>\n",
       "      <td>1.785360</td>\n",
       "      <td>NaN</td>\n",
       "      <td>NaN</td>\n",
       "    </tr>\n",
       "    <tr>\n",
       "      <th>4</th>\n",
       "      <td>Afghanistán</td>\n",
       "      <td>2012</td>\n",
       "      <td>3.782938</td>\n",
       "      <td>7.517126</td>\n",
       "      <td>0.520637</td>\n",
       "      <td>52.240002</td>\n",
       "      <td>0.530935</td>\n",
       "      <td>0.244273</td>\n",
       "      <td>0.775620</td>\n",
       "      <td>0.710385</td>\n",
       "      <td>0.267919</td>\n",
       "      <td>0.435440</td>\n",
       "      <td>-1.842996</td>\n",
       "      <td>-1.404078</td>\n",
       "      <td>1.798283</td>\n",
       "      <td>NaN</td>\n",
       "      <td>NaN</td>\n",
       "    </tr>\n",
       "    <tr>\n",
       "      <th>...</th>\n",
       "      <td>...</td>\n",
       "      <td>...</td>\n",
       "      <td>...</td>\n",
       "      <td>...</td>\n",
       "      <td>...</td>\n",
       "      <td>...</td>\n",
       "      <td>...</td>\n",
       "      <td>...</td>\n",
       "      <td>...</td>\n",
       "      <td>...</td>\n",
       "      <td>...</td>\n",
       "      <td>...</td>\n",
       "      <td>...</td>\n",
       "      <td>...</td>\n",
       "      <td>...</td>\n",
       "      <td>...</td>\n",
       "      <td>...</td>\n",
       "    </tr>\n",
       "    <tr>\n",
       "      <th>1699</th>\n",
       "      <td>Zimbabue</td>\n",
       "      <td>2014</td>\n",
       "      <td>4.184451</td>\n",
       "      <td>7.562753</td>\n",
       "      <td>0.765839</td>\n",
       "      <td>52.380001</td>\n",
       "      <td>0.642034</td>\n",
       "      <td>-0.048634</td>\n",
       "      <td>0.820217</td>\n",
       "      <td>0.725214</td>\n",
       "      <td>0.239111</td>\n",
       "      <td>0.566209</td>\n",
       "      <td>-0.985267</td>\n",
       "      <td>-1.484067</td>\n",
       "      <td>2.079248</td>\n",
       "      <td>NaN</td>\n",
       "      <td>0.432</td>\n",
       "    </tr>\n",
       "    <tr>\n",
       "      <th>1700</th>\n",
       "      <td>Zimbabue</td>\n",
       "      <td>2015</td>\n",
       "      <td>3.703191</td>\n",
       "      <td>7.556052</td>\n",
       "      <td>0.735800</td>\n",
       "      <td>53.799999</td>\n",
       "      <td>0.667193</td>\n",
       "      <td>-0.097354</td>\n",
       "      <td>0.810457</td>\n",
       "      <td>0.715079</td>\n",
       "      <td>0.178861</td>\n",
       "      <td>0.590012</td>\n",
       "      <td>-0.893078</td>\n",
       "      <td>-1.357514</td>\n",
       "      <td>2.198865</td>\n",
       "      <td>NaN</td>\n",
       "      <td>0.432</td>\n",
       "    </tr>\n",
       "    <tr>\n",
       "      <th>1701</th>\n",
       "      <td>Zimbabue</td>\n",
       "      <td>2016</td>\n",
       "      <td>3.735400</td>\n",
       "      <td>7.538829</td>\n",
       "      <td>0.768425</td>\n",
       "      <td>54.400002</td>\n",
       "      <td>0.732971</td>\n",
       "      <td>-0.068105</td>\n",
       "      <td>0.723612</td>\n",
       "      <td>0.737636</td>\n",
       "      <td>0.208555</td>\n",
       "      <td>0.699344</td>\n",
       "      <td>-0.900649</td>\n",
       "      <td>-1.374650</td>\n",
       "      <td>2.776363</td>\n",
       "      <td>NaN</td>\n",
       "      <td>0.432</td>\n",
       "    </tr>\n",
       "    <tr>\n",
       "      <th>1702</th>\n",
       "      <td>Zimbabue</td>\n",
       "      <td>2017</td>\n",
       "      <td>3.638300</td>\n",
       "      <td>7.549491</td>\n",
       "      <td>0.754147</td>\n",
       "      <td>55.000000</td>\n",
       "      <td>0.752826</td>\n",
       "      <td>-0.069670</td>\n",
       "      <td>0.751208</td>\n",
       "      <td>0.806428</td>\n",
       "      <td>0.224051</td>\n",
       "      <td>0.682647</td>\n",
       "      <td>-0.988153</td>\n",
       "      <td>-1.350867</td>\n",
       "      <td>2.656848</td>\n",
       "      <td>NaN</td>\n",
       "      <td>0.432</td>\n",
       "    </tr>\n",
       "    <tr>\n",
       "      <th>1703</th>\n",
       "      <td>Zimbabue</td>\n",
       "      <td>2018</td>\n",
       "      <td>3.616480</td>\n",
       "      <td>7.553395</td>\n",
       "      <td>0.775388</td>\n",
       "      <td>55.599998</td>\n",
       "      <td>0.762675</td>\n",
       "      <td>-0.038384</td>\n",
       "      <td>0.844209</td>\n",
       "      <td>0.710119</td>\n",
       "      <td>0.211726</td>\n",
       "      <td>0.550508</td>\n",
       "      <td>NaN</td>\n",
       "      <td>NaN</td>\n",
       "      <td>2.498696</td>\n",
       "      <td>NaN</td>\n",
       "      <td>0.432</td>\n",
       "    </tr>\n",
       "  </tbody>\n",
       "</table>\n",
       "<p>1704 rows × 17 columns</p>\n",
       "</div>"
      ],
      "text/plain": [
       "             pais  anio  escalera_vida   log_pib  soporte_social  \\\n",
       "0     Afghanistán  2008       3.723590  7.168690        0.450662   \n",
       "1     Afghanistán  2009       4.401778  7.333790        0.552308   \n",
       "2     Afghanistán  2010       4.758381  7.386629        0.539075   \n",
       "3     Afghanistán  2011       3.831719  7.415019        0.521104   \n",
       "4     Afghanistán  2012       3.782938  7.517126        0.520637   \n",
       "...           ...   ...            ...       ...             ...   \n",
       "1699     Zimbabue  2014       4.184451  7.562753        0.765839   \n",
       "1700     Zimbabue  2015       3.703191  7.556052        0.735800   \n",
       "1701     Zimbabue  2016       3.735400  7.538829        0.768425   \n",
       "1702     Zimbabue  2017       3.638300  7.549491        0.754147   \n",
       "1703     Zimbabue  2018       3.616480  7.553395        0.775388   \n",
       "\n",
       "      expectativa_vida  libertad  generosidad  percepcion_corrupcion  \\\n",
       "0            50.799999  0.718114     0.177889               0.881686   \n",
       "1            51.200001  0.678896     0.200178               0.850035   \n",
       "2            51.599998  0.600127     0.134353               0.706766   \n",
       "3            51.919998  0.495901     0.172137               0.731109   \n",
       "4            52.240002  0.530935     0.244273               0.775620   \n",
       "...                ...       ...          ...                    ...   \n",
       "1699         52.380001  0.642034    -0.048634               0.820217   \n",
       "1700         53.799999  0.667193    -0.097354               0.810457   \n",
       "1701         54.400002  0.732971    -0.068105               0.723612   \n",
       "1702         55.000000  0.752826    -0.069670               0.751208   \n",
       "1703         55.599998  0.762675    -0.038384               0.844209   \n",
       "\n",
       "      afecto_positivo  afecto_negativo  confianza  calidad_democracia  \\\n",
       "0            0.517637         0.258195   0.612072           -1.929690   \n",
       "1            0.583926         0.237092   0.611545           -2.044093   \n",
       "2            0.618265         0.275324   0.299357           -1.991810   \n",
       "3            0.611387         0.267175   0.307386           -1.919018   \n",
       "4            0.710385         0.267919   0.435440           -1.842996   \n",
       "...               ...              ...        ...                 ...   \n",
       "1699         0.725214         0.239111   0.566209           -0.985267   \n",
       "1700         0.715079         0.178861   0.590012           -0.893078   \n",
       "1701         0.737636         0.208555   0.699344           -0.900649   \n",
       "1702         0.806428         0.224051   0.682647           -0.988153   \n",
       "1703         0.710119         0.211726   0.550508                 NaN   \n",
       "\n",
       "      calidad_entrega  de_escalera_pais_anio  gini_banco_mundial  \\\n",
       "0           -1.655084               1.774662                 NaN   \n",
       "1           -1.635025               1.722688                 NaN   \n",
       "2           -1.617176               1.878622                 NaN   \n",
       "3           -1.616221               1.785360                 NaN   \n",
       "4           -1.404078               1.798283                 NaN   \n",
       "...               ...                    ...                 ...   \n",
       "1699        -1.484067               2.079248                 NaN   \n",
       "1700        -1.357514               2.198865                 NaN   \n",
       "1701        -1.374650               2.776363                 NaN   \n",
       "1702        -1.350867               2.656848                 NaN   \n",
       "1703              NaN               2.498696                 NaN   \n",
       "\n",
       "      gini_banco_mundial_promedio  \n",
       "0                             NaN  \n",
       "1                             NaN  \n",
       "2                             NaN  \n",
       "3                             NaN  \n",
       "4                             NaN  \n",
       "...                           ...  \n",
       "1699                        0.432  \n",
       "1700                        0.432  \n",
       "1701                        0.432  \n",
       "1702                        0.432  \n",
       "1703                        0.432  \n",
       "\n",
       "[1704 rows x 17 columns]"
      ]
     },
     "execution_count": 218,
     "metadata": {},
     "output_type": "execute_result"
    }
   ],
   "source": [
    "# Leer los datos de 'FELICIDAD'\n",
    "datos_felicidad = pd.read_csv(datos[24])\n",
    "datos_felicidad"
   ]
  },
  {
   "cell_type": "markdown",
   "metadata": {},
   "source": [
    "# 3. Análisis"
   ]
  },
  {
   "cell_type": "markdown",
   "metadata": {},
   "source": [
    "## 3.1. Medida de tendencia central y dispersión de la felicidad a nivel mundial para el primer y último año"
   ]
  },
  {
   "cell_type": "code",
   "execution_count": 219,
   "metadata": {},
   "outputs": [
    {
     "data": {
      "text/html": [
       "<div>\n",
       "<style scoped>\n",
       "    .dataframe tbody tr th:only-of-type {\n",
       "        vertical-align: middle;\n",
       "    }\n",
       "\n",
       "    .dataframe tbody tr th {\n",
       "        vertical-align: top;\n",
       "    }\n",
       "\n",
       "    .dataframe thead th {\n",
       "        text-align: right;\n",
       "    }\n",
       "</style>\n",
       "<table border=\"1\" class=\"dataframe\">\n",
       "  <thead>\n",
       "    <tr style=\"text-align: right;\">\n",
       "      <th></th>\n",
       "      <th>pais</th>\n",
       "      <th>anio</th>\n",
       "      <th>escalera_vida</th>\n",
       "      <th>log_pib</th>\n",
       "      <th>soporte_social</th>\n",
       "      <th>expectativa_vida</th>\n",
       "      <th>libertad</th>\n",
       "      <th>generosidad</th>\n",
       "      <th>percepcion_corrupcion</th>\n",
       "      <th>afecto_positivo</th>\n",
       "      <th>afecto_negativo</th>\n",
       "      <th>confianza</th>\n",
       "      <th>calidad_democracia</th>\n",
       "      <th>calidad_entrega</th>\n",
       "      <th>de_escalera_pais_anio</th>\n",
       "      <th>gini_banco_mundial</th>\n",
       "      <th>gini_banco_mundial_promedio</th>\n",
       "    </tr>\n",
       "  </thead>\n",
       "  <tbody>\n",
       "    <tr>\n",
       "      <th>10</th>\n",
       "      <td>Afghanistán</td>\n",
       "      <td>2018</td>\n",
       "      <td>2.694303</td>\n",
       "      <td>7.494588</td>\n",
       "      <td>0.507516</td>\n",
       "      <td>52.599998</td>\n",
       "      <td>0.373536</td>\n",
       "      <td>-0.084888</td>\n",
       "      <td>0.927606</td>\n",
       "      <td>0.424125</td>\n",
       "      <td>0.404904</td>\n",
       "      <td>0.364666</td>\n",
       "      <td>NaN</td>\n",
       "      <td>NaN</td>\n",
       "      <td>1.408344</td>\n",
       "      <td>NaN</td>\n",
       "      <td>NaN</td>\n",
       "    </tr>\n",
       "    <tr>\n",
       "      <th>21</th>\n",
       "      <td>Albania</td>\n",
       "      <td>2018</td>\n",
       "      <td>5.004403</td>\n",
       "      <td>9.412399</td>\n",
       "      <td>0.683592</td>\n",
       "      <td>68.699997</td>\n",
       "      <td>0.824212</td>\n",
       "      <td>0.005385</td>\n",
       "      <td>0.899129</td>\n",
       "      <td>0.713300</td>\n",
       "      <td>0.318997</td>\n",
       "      <td>0.435338</td>\n",
       "      <td>NaN</td>\n",
       "      <td>NaN</td>\n",
       "      <td>2.640531</td>\n",
       "      <td>NaN</td>\n",
       "      <td>0.303250</td>\n",
       "    </tr>\n",
       "    <tr>\n",
       "      <th>28</th>\n",
       "      <td>Algeria</td>\n",
       "      <td>2018</td>\n",
       "      <td>5.043086</td>\n",
       "      <td>9.557952</td>\n",
       "      <td>0.798651</td>\n",
       "      <td>65.900002</td>\n",
       "      <td>0.583381</td>\n",
       "      <td>-0.172413</td>\n",
       "      <td>0.758704</td>\n",
       "      <td>0.591043</td>\n",
       "      <td>0.292946</td>\n",
       "      <td>NaN</td>\n",
       "      <td>NaN</td>\n",
       "      <td>NaN</td>\n",
       "      <td>1.973943</td>\n",
       "      <td>NaN</td>\n",
       "      <td>0.276000</td>\n",
       "    </tr>\n",
       "    <tr>\n",
       "      <th>45</th>\n",
       "      <td>Argentina</td>\n",
       "      <td>2018</td>\n",
       "      <td>5.792797</td>\n",
       "      <td>9.809972</td>\n",
       "      <td>0.899912</td>\n",
       "      <td>68.800003</td>\n",
       "      <td>0.845895</td>\n",
       "      <td>-0.206937</td>\n",
       "      <td>0.855255</td>\n",
       "      <td>0.820310</td>\n",
       "      <td>0.320502</td>\n",
       "      <td>0.261352</td>\n",
       "      <td>NaN</td>\n",
       "      <td>NaN</td>\n",
       "      <td>2.472559</td>\n",
       "      <td>NaN</td>\n",
       "      <td>0.460938</td>\n",
       "    </tr>\n",
       "    <tr>\n",
       "      <th>58</th>\n",
       "      <td>Armenia</td>\n",
       "      <td>2018</td>\n",
       "      <td>5.062449</td>\n",
       "      <td>9.119424</td>\n",
       "      <td>0.814449</td>\n",
       "      <td>66.900002</td>\n",
       "      <td>0.807644</td>\n",
       "      <td>-0.149109</td>\n",
       "      <td>0.676826</td>\n",
       "      <td>0.581488</td>\n",
       "      <td>0.454840</td>\n",
       "      <td>0.670828</td>\n",
       "      <td>NaN</td>\n",
       "      <td>NaN</td>\n",
       "      <td>2.102111</td>\n",
       "      <td>NaN</td>\n",
       "      <td>0.319250</td>\n",
       "    </tr>\n",
       "    <tr>\n",
       "      <th>...</th>\n",
       "      <td>...</td>\n",
       "      <td>...</td>\n",
       "      <td>...</td>\n",
       "      <td>...</td>\n",
       "      <td>...</td>\n",
       "      <td>...</td>\n",
       "      <td>...</td>\n",
       "      <td>...</td>\n",
       "      <td>...</td>\n",
       "      <td>...</td>\n",
       "      <td>...</td>\n",
       "      <td>...</td>\n",
       "      <td>...</td>\n",
       "      <td>...</td>\n",
       "      <td>...</td>\n",
       "      <td>...</td>\n",
       "      <td>...</td>\n",
       "    </tr>\n",
       "    <tr>\n",
       "      <th>1654</th>\n",
       "      <td>Venezuela</td>\n",
       "      <td>2018</td>\n",
       "      <td>5.005663</td>\n",
       "      <td>9.270281</td>\n",
       "      <td>0.886882</td>\n",
       "      <td>66.500000</td>\n",
       "      <td>0.610855</td>\n",
       "      <td>-0.176156</td>\n",
       "      <td>0.827560</td>\n",
       "      <td>0.759221</td>\n",
       "      <td>0.373658</td>\n",
       "      <td>0.260700</td>\n",
       "      <td>NaN</td>\n",
       "      <td>NaN</td>\n",
       "      <td>2.891930</td>\n",
       "      <td>NaN</td>\n",
       "      <td>0.497167</td>\n",
       "    </tr>\n",
       "    <tr>\n",
       "      <th>1667</th>\n",
       "      <td>Vietnam</td>\n",
       "      <td>2018</td>\n",
       "      <td>5.295547</td>\n",
       "      <td>8.783416</td>\n",
       "      <td>0.831945</td>\n",
       "      <td>67.900002</td>\n",
       "      <td>0.909260</td>\n",
       "      <td>-0.039124</td>\n",
       "      <td>0.808423</td>\n",
       "      <td>0.692222</td>\n",
       "      <td>0.191061</td>\n",
       "      <td>NaN</td>\n",
       "      <td>NaN</td>\n",
       "      <td>NaN</td>\n",
       "      <td>1.676448</td>\n",
       "      <td>NaN</td>\n",
       "      <td>0.362750</td>\n",
       "    </tr>\n",
       "    <tr>\n",
       "      <th>1678</th>\n",
       "      <td>Yemen</td>\n",
       "      <td>2018</td>\n",
       "      <td>3.057514</td>\n",
       "      <td>NaN</td>\n",
       "      <td>0.789422</td>\n",
       "      <td>56.700001</td>\n",
       "      <td>0.552726</td>\n",
       "      <td>NaN</td>\n",
       "      <td>0.792587</td>\n",
       "      <td>0.461114</td>\n",
       "      <td>0.314870</td>\n",
       "      <td>0.308151</td>\n",
       "      <td>NaN</td>\n",
       "      <td>NaN</td>\n",
       "      <td>2.402008</td>\n",
       "      <td>NaN</td>\n",
       "      <td>0.357000</td>\n",
       "    </tr>\n",
       "    <tr>\n",
       "      <th>1690</th>\n",
       "      <td>Zambia</td>\n",
       "      <td>2018</td>\n",
       "      <td>4.041488</td>\n",
       "      <td>8.223958</td>\n",
       "      <td>0.717720</td>\n",
       "      <td>55.299999</td>\n",
       "      <td>0.790626</td>\n",
       "      <td>0.036644</td>\n",
       "      <td>0.810731</td>\n",
       "      <td>0.702698</td>\n",
       "      <td>0.350963</td>\n",
       "      <td>0.606715</td>\n",
       "      <td>NaN</td>\n",
       "      <td>NaN</td>\n",
       "      <td>2.783419</td>\n",
       "      <td>NaN</td>\n",
       "      <td>0.527400</td>\n",
       "    </tr>\n",
       "    <tr>\n",
       "      <th>1703</th>\n",
       "      <td>Zimbabue</td>\n",
       "      <td>2018</td>\n",
       "      <td>3.616480</td>\n",
       "      <td>7.553395</td>\n",
       "      <td>0.775388</td>\n",
       "      <td>55.599998</td>\n",
       "      <td>0.762675</td>\n",
       "      <td>-0.038384</td>\n",
       "      <td>0.844209</td>\n",
       "      <td>0.710119</td>\n",
       "      <td>0.211726</td>\n",
       "      <td>0.550508</td>\n",
       "      <td>NaN</td>\n",
       "      <td>NaN</td>\n",
       "      <td>2.498696</td>\n",
       "      <td>NaN</td>\n",
       "      <td>0.432000</td>\n",
       "    </tr>\n",
       "  </tbody>\n",
       "</table>\n",
       "<p>163 rows × 17 columns</p>\n",
       "</div>"
      ],
      "text/plain": [
       "             pais  anio  escalera_vida   log_pib  soporte_social  \\\n",
       "10    Afghanistán  2018       2.694303  7.494588        0.507516   \n",
       "21        Albania  2018       5.004403  9.412399        0.683592   \n",
       "28        Algeria  2018       5.043086  9.557952        0.798651   \n",
       "45      Argentina  2018       5.792797  9.809972        0.899912   \n",
       "58        Armenia  2018       5.062449  9.119424        0.814449   \n",
       "...           ...   ...            ...       ...             ...   \n",
       "1654    Venezuela  2018       5.005663  9.270281        0.886882   \n",
       "1667      Vietnam  2018       5.295547  8.783416        0.831945   \n",
       "1678        Yemen  2018       3.057514       NaN        0.789422   \n",
       "1690       Zambia  2018       4.041488  8.223958        0.717720   \n",
       "1703     Zimbabue  2018       3.616480  7.553395        0.775388   \n",
       "\n",
       "      expectativa_vida  libertad  generosidad  percepcion_corrupcion  \\\n",
       "10           52.599998  0.373536    -0.084888               0.927606   \n",
       "21           68.699997  0.824212     0.005385               0.899129   \n",
       "28           65.900002  0.583381    -0.172413               0.758704   \n",
       "45           68.800003  0.845895    -0.206937               0.855255   \n",
       "58           66.900002  0.807644    -0.149109               0.676826   \n",
       "...                ...       ...          ...                    ...   \n",
       "1654         66.500000  0.610855    -0.176156               0.827560   \n",
       "1667         67.900002  0.909260    -0.039124               0.808423   \n",
       "1678         56.700001  0.552726          NaN               0.792587   \n",
       "1690         55.299999  0.790626     0.036644               0.810731   \n",
       "1703         55.599998  0.762675    -0.038384               0.844209   \n",
       "\n",
       "      afecto_positivo  afecto_negativo  confianza  calidad_democracia  \\\n",
       "10           0.424125         0.404904   0.364666                 NaN   \n",
       "21           0.713300         0.318997   0.435338                 NaN   \n",
       "28           0.591043         0.292946        NaN                 NaN   \n",
       "45           0.820310         0.320502   0.261352                 NaN   \n",
       "58           0.581488         0.454840   0.670828                 NaN   \n",
       "...               ...              ...        ...                 ...   \n",
       "1654         0.759221         0.373658   0.260700                 NaN   \n",
       "1667         0.692222         0.191061        NaN                 NaN   \n",
       "1678         0.461114         0.314870   0.308151                 NaN   \n",
       "1690         0.702698         0.350963   0.606715                 NaN   \n",
       "1703         0.710119         0.211726   0.550508                 NaN   \n",
       "\n",
       "      calidad_entrega  de_escalera_pais_anio  gini_banco_mundial  \\\n",
       "10                NaN               1.408344                 NaN   \n",
       "21                NaN               2.640531                 NaN   \n",
       "28                NaN               1.973943                 NaN   \n",
       "45                NaN               2.472559                 NaN   \n",
       "58                NaN               2.102111                 NaN   \n",
       "...               ...                    ...                 ...   \n",
       "1654              NaN               2.891930                 NaN   \n",
       "1667              NaN               1.676448                 NaN   \n",
       "1678              NaN               2.402008                 NaN   \n",
       "1690              NaN               2.783419                 NaN   \n",
       "1703              NaN               2.498696                 NaN   \n",
       "\n",
       "      gini_banco_mundial_promedio  \n",
       "10                            NaN  \n",
       "21                       0.303250  \n",
       "28                       0.276000  \n",
       "45                       0.460938  \n",
       "58                       0.319250  \n",
       "...                           ...  \n",
       "1654                     0.497167  \n",
       "1667                     0.362750  \n",
       "1678                     0.357000  \n",
       "1690                     0.527400  \n",
       "1703                     0.432000  \n",
       "\n",
       "[163 rows x 17 columns]"
      ]
     },
     "execution_count": 219,
     "metadata": {},
     "output_type": "execute_result"
    }
   ],
   "source": [
    "# Tabla felicidad filtrada con primer y último año\n",
    "felicidad_filtrada_anio = datos_felicidad[(datos_felicidad['anio'] == datos_felicidad['anio'].min()) | (datos_felicidad['anio'] == datos_felicidad['anio'].max())]\n",
    "felicidad_filtrada_anio"
   ]
  },
  {
   "cell_type": "markdown",
   "metadata": {},
   "source": [
    "### Medida de tendencia central (promedio)"
   ]
  },
  {
   "cell_type": "code",
   "execution_count": 220,
   "metadata": {},
   "outputs": [
    {
     "data": {
      "text/plain": [
       "anio\n",
       "2005    7.358502\n",
       "2018    7.275893\n",
       "Name: escalera_vida, dtype: float64"
      ]
     },
     "execution_count": 220,
     "metadata": {},
     "output_type": "execute_result"
    }
   ],
   "source": [
    "# Cálculo de felicidad promedio del primer y último año\n",
    "felicidad_promedio = felicidad_filtrada.groupby('anio')['escalera_vida'].mean()\n",
    "felicidad_promedio "
   ]
  },
  {
   "cell_type": "markdown",
   "metadata": {},
   "source": [
    "#### Conclusión\n",
    "Según los datos obtenidos, para el año 2005 el índice de felicidad promedio se situó en 6.446164; mientras que, para el año 2018 el mismo índice se situó en 5.502134. Estos valores sugieren una reducción en este indicador para estos años de análisis."
   ]
  },
  {
   "cell_type": "markdown",
   "metadata": {},
   "source": [
    "### Medida de dispersión (desviación estándar)"
   ]
  },
  {
   "cell_type": "code",
   "execution_count": 221,
   "metadata": {},
   "outputs": [
    {
     "data": {
      "text/plain": [
       "anio\n",
       "2005    0.025192\n",
       "2018    0.139865\n",
       "Name: escalera_vida, dtype: float64"
      ]
     },
     "execution_count": 221,
     "metadata": {},
     "output_type": "execute_result"
    }
   ],
   "source": [
    "# Cálculo de desviación estándar de la felicidad del primer y último año\n",
    "felicidad_std = felicidad_filtrada.groupby('anio')['escalera_vida'].std()\n",
    "felicidad_std "
   ]
  },
  {
   "cell_type": "markdown",
   "metadata": {},
   "source": [
    "#### Conclusión\n",
    "Según los datos obtenidos, para el año 2005 la desviación estándar del índice de felicidad se situó en 0.919143; mientras que, para el año 2018 el mismo índice se situó en 1.103461. Estos valores sugieren un aumento en la variabilidad de la felicidad, en otras palabras, las mediciones de felicidad son más dispersas en 2018 en comparación con el año 2005."
   ]
  },
  {
   "cell_type": "markdown",
   "metadata": {},
   "source": [
    "## 3.2. Comparación de valores a nivel mundial con dos países de su elección en el primer año reportado y el último año reportado"
   ]
  },
  {
   "cell_type": "markdown",
   "metadata": {},
   "source": [
    "### Análisis 1: Comparación de valores sin determinar medidas de tendencia central ni dispersión"
   ]
  },
  {
   "cell_type": "code",
   "execution_count": 222,
   "metadata": {},
   "outputs": [],
   "source": [
    "# Determinar países de interés\n",
    "paises = ['Ecuador', 'Suecia']"
   ]
  },
  {
   "cell_type": "code",
   "execution_count": 223,
   "metadata": {},
   "outputs": [
    {
     "data": {
      "text/html": [
       "<div>\n",
       "<style scoped>\n",
       "    .dataframe tbody tr th:only-of-type {\n",
       "        vertical-align: middle;\n",
       "    }\n",
       "\n",
       "    .dataframe tbody tr th {\n",
       "        vertical-align: top;\n",
       "    }\n",
       "\n",
       "    .dataframe thead th {\n",
       "        text-align: right;\n",
       "    }\n",
       "</style>\n",
       "<table border=\"1\" class=\"dataframe\">\n",
       "  <thead>\n",
       "    <tr style=\"text-align: right;\">\n",
       "      <th></th>\n",
       "      <th>pais</th>\n",
       "      <th>anio</th>\n",
       "      <th>escalera_vida</th>\n",
       "      <th>log_pib</th>\n",
       "      <th>soporte_social</th>\n",
       "      <th>expectativa_vida</th>\n",
       "      <th>libertad</th>\n",
       "      <th>generosidad</th>\n",
       "      <th>percepcion_corrupcion</th>\n",
       "      <th>afecto_positivo</th>\n",
       "      <th>afecto_negativo</th>\n",
       "      <th>confianza</th>\n",
       "      <th>calidad_democracia</th>\n",
       "      <th>calidad_entrega</th>\n",
       "      <th>de_escalera_pais_anio</th>\n",
       "      <th>gini_banco_mundial</th>\n",
       "      <th>gini_banco_mundial_promedio</th>\n",
       "    </tr>\n",
       "  </thead>\n",
       "  <tbody>\n",
       "    <tr>\n",
       "      <th>439</th>\n",
       "      <td>Ecuador</td>\n",
       "      <td>2018</td>\n",
       "      <td>6.128010</td>\n",
       "      <td>9.274455</td>\n",
       "      <td>0.851345</td>\n",
       "      <td>68.500000</td>\n",
       "      <td>0.869364</td>\n",
       "      <td>-0.104021</td>\n",
       "      <td>0.830743</td>\n",
       "      <td>0.876475</td>\n",
       "      <td>0.328171</td>\n",
       "      <td>0.402085</td>\n",
       "      <td>NaN</td>\n",
       "      <td>NaN</td>\n",
       "      <td>2.485788</td>\n",
       "      <td>NaN</td>\n",
       "      <td>0.496000</td>\n",
       "    </tr>\n",
       "    <tr>\n",
       "      <th>1432</th>\n",
       "      <td>Suecia</td>\n",
       "      <td>2005</td>\n",
       "      <td>7.376316</td>\n",
       "      <td>10.626856</td>\n",
       "      <td>0.951470</td>\n",
       "      <td>71.199997</td>\n",
       "      <td>0.964395</td>\n",
       "      <td>NaN</td>\n",
       "      <td>NaN</td>\n",
       "      <td>0.839870</td>\n",
       "      <td>0.150766</td>\n",
       "      <td>0.440849</td>\n",
       "      <td>1.44275</td>\n",
       "      <td>1.81479</td>\n",
       "      <td>1.618058</td>\n",
       "      <td>0.268</td>\n",
       "      <td>0.274154</td>\n",
       "    </tr>\n",
       "    <tr>\n",
       "      <th>1444</th>\n",
       "      <td>Suecia</td>\n",
       "      <td>2018</td>\n",
       "      <td>7.374792</td>\n",
       "      <td>10.766932</td>\n",
       "      <td>0.930680</td>\n",
       "      <td>72.599998</td>\n",
       "      <td>0.941725</td>\n",
       "      <td>0.069573</td>\n",
       "      <td>0.262797</td>\n",
       "      <td>0.822676</td>\n",
       "      <td>0.160755</td>\n",
       "      <td>0.494396</td>\n",
       "      <td>NaN</td>\n",
       "      <td>NaN</td>\n",
       "      <td>1.601522</td>\n",
       "      <td>NaN</td>\n",
       "      <td>0.274154</td>\n",
       "    </tr>\n",
       "  </tbody>\n",
       "</table>\n",
       "</div>"
      ],
      "text/plain": [
       "         pais  anio  escalera_vida    log_pib  soporte_social  \\\n",
       "439   Ecuador  2018       6.128010   9.274455        0.851345   \n",
       "1432   Suecia  2005       7.376316  10.626856        0.951470   \n",
       "1444   Suecia  2018       7.374792  10.766932        0.930680   \n",
       "\n",
       "      expectativa_vida  libertad  generosidad  percepcion_corrupcion  \\\n",
       "439          68.500000  0.869364    -0.104021               0.830743   \n",
       "1432         71.199997  0.964395          NaN                    NaN   \n",
       "1444         72.599998  0.941725     0.069573               0.262797   \n",
       "\n",
       "      afecto_positivo  afecto_negativo  confianza  calidad_democracia  \\\n",
       "439          0.876475         0.328171   0.402085                 NaN   \n",
       "1432         0.839870         0.150766   0.440849             1.44275   \n",
       "1444         0.822676         0.160755   0.494396                 NaN   \n",
       "\n",
       "      calidad_entrega  de_escalera_pais_anio  gini_banco_mundial  \\\n",
       "439               NaN               2.485788                 NaN   \n",
       "1432          1.81479               1.618058               0.268   \n",
       "1444              NaN               1.601522                 NaN   \n",
       "\n",
       "      gini_banco_mundial_promedio  \n",
       "439                      0.496000  \n",
       "1432                     0.274154  \n",
       "1444                     0.274154  "
      ]
     },
     "execution_count": 223,
     "metadata": {},
     "output_type": "execute_result"
    }
   ],
   "source": [
    "# Utilizar la tabla filtrada por año en el inciso anterior para filtrar también por los países de interés\n",
    "felicidad_filtrada_pais = felicidad_filtrada_anio[felicidad_filtrada_anio['pais'].isin(paises)]\n",
    "felicidad_filtrada_pais"
   ]
  },
  {
   "cell_type": "code",
   "execution_count": 224,
   "metadata": {},
   "outputs": [
    {
     "data": {
      "text/plain": [
       "5.4371550357397735"
      ]
     },
     "execution_count": 224,
     "metadata": {},
     "output_type": "execute_result"
    }
   ],
   "source": [
    "# Calcular el promedio de 'felicidad' mundial\n",
    "promedio_mundial = datos_felicidad['escalera_vida'].mean()\n",
    "promedio_mundial"
   ]
  },
  {
   "cell_type": "markdown",
   "metadata": {},
   "source": [
    "### Análisis 2: Comparación de valores determinando medidas de tendencia central y dispersión"
   ]
  },
  {
   "cell_type": "markdown",
   "metadata": {},
   "source": [
    "#### Medida de tendencia central (promedio)"
   ]
  },
  {
   "cell_type": "code",
   "execution_count": 225,
   "metadata": {},
   "outputs": [
    {
     "data": {
      "text/plain": [
       "pais\n",
       "Afghanistán    3.705495\n",
       "Albania        4.990211\n",
       "Alemania       6.792368\n",
       "Algeria        5.481872\n",
       "Angola         4.420299\n",
       "                 ...   \n",
       "Venezuela      6.203183\n",
       "Vietnam        5.293443\n",
       "Yemen          3.886234\n",
       "Zambia         4.631722\n",
       "Zimbabue       4.029770\n",
       "Name: escalera_vida, Length: 164, dtype: float64"
      ]
     },
     "execution_count": 225,
     "metadata": {},
     "output_type": "execute_result"
    }
   ],
   "source": [
    "# Calcular el promedio de 'felicidad' de cada país\n",
    "promedio_pais = datos_felicidad.groupby('pais')['escalera_vida'].mean()\n",
    "promedio_pais"
   ]
  },
  {
   "cell_type": "code",
   "execution_count": 226,
   "metadata": {},
   "outputs": [
    {
     "data": {
      "text/plain": [
       "5.4371550357397735"
      ]
     },
     "execution_count": 226,
     "metadata": {},
     "output_type": "execute_result"
    }
   ],
   "source": [
    "# Calcular el promedio de 'felicidad' mundial\n",
    "promedio_mundial = datos_felicidad['escalera_vida'].mean()\n",
    "promedio_mundial"
   ]
  },
  {
   "cell_type": "code",
   "execution_count": 227,
   "metadata": {},
   "outputs": [],
   "source": [
    "# Determinar países de interés\n",
    "pais_1 = \"Ecuador\"\n",
    "pais_2 = \"Suecia\""
   ]
  },
  {
   "cell_type": "code",
   "execution_count": 228,
   "metadata": {},
   "outputs": [
    {
     "data": {
      "text/plain": [
       "pais\n",
       "Ecuador    5.764949\n",
       "Suecia     7.371575\n",
       "Name: escalera_vida, dtype: float64"
      ]
     },
     "execution_count": 228,
     "metadata": {},
     "output_type": "execute_result"
    }
   ],
   "source": [
    "# Seleccionar información de países de interés\n",
    "promedio_paises = promedio_pais.loc[[pais_1, pais_2]]\n",
    "promedio_paises"
   ]
  },
  {
   "cell_type": "code",
   "execution_count": 229,
   "metadata": {},
   "outputs": [
    {
     "name": "stdout",
     "output_type": "stream",
     "text": [
      "Promedio de 'felicidad' para : pais\n",
      "Ecuador    5.764949\n",
      "Suecia     7.371575\n",
      "Name: escalera_vida, dtype: float64\n",
      "Promedio de 'felicidad' mundial: 5.4371550357397735\n"
     ]
    }
   ],
   "source": [
    "print(f\"Promedio de 'felicidad' para : {promedio_paises}\")\n",
    "print(f\"Promedio de 'felicidad' mundial: {promedio_mundial}\")"
   ]
  },
  {
   "cell_type": "markdown",
   "metadata": {},
   "source": [
    "##### Conclusión\n",
    " Según los datos obtenidos, se concluye que Suecia tiene el mayor promedio de felicidad (7.371575), seguido por Ecuador (5.764949) y el promedio mundial (5.437155036). Por lo tanto, según estos datos, Suecia tiene el mayor nivel de felicidad."
   ]
  },
  {
   "cell_type": "markdown",
   "metadata": {},
   "source": [
    "#### Medida de dispersión (desviación estándar)"
   ]
  },
  {
   "cell_type": "code",
   "execution_count": 230,
   "metadata": {},
   "outputs": [
    {
     "data": {
      "text/plain": [
       "pais\n",
       "Afghanistán    0.664635\n",
       "Albania        0.470496\n",
       "Alemania       0.228729\n",
       "Algeria        0.422567\n",
       "Angola         0.815301\n",
       "                 ...   \n",
       "Venezuela      1.018408\n",
       "Vietnam        0.217101\n",
       "Yemen          0.590778\n",
       "Zambia         0.480803\n",
       "Zimbabue       0.595815\n",
       "Name: escalera_vida, Length: 164, dtype: float64"
      ]
     },
     "execution_count": 230,
     "metadata": {},
     "output_type": "execute_result"
    }
   ],
   "source": [
    "# Calcular la desviación estándar de 'felicidad' de cada país\n",
    "std_pais = datos_felicidad.groupby('pais')['escalera_vida'].std()\n",
    "std_pais"
   ]
  },
  {
   "cell_type": "code",
   "execution_count": 231,
   "metadata": {},
   "outputs": [
    {
     "data": {
      "text/plain": [
       "1.1211490772800061"
      ]
     },
     "execution_count": 231,
     "metadata": {},
     "output_type": "execute_result"
    }
   ],
   "source": [
    "# Calcular la desviación estándar de 'felicidad' mundial\n",
    "std_mundial = datos_felicidad['escalera_vida'].std()\n",
    "std_mundial"
   ]
  },
  {
   "cell_type": "code",
   "execution_count": 232,
   "metadata": {},
   "outputs": [],
   "source": [
    "# Determinar países de interés\n",
    "pais_1 = \"Ecuador\"\n",
    "pais_2 = \"Suecia\""
   ]
  },
  {
   "cell_type": "code",
   "execution_count": 233,
   "metadata": {},
   "outputs": [
    {
     "data": {
      "text/plain": [
       "pais\n",
       "Ecuador    0.394485\n",
       "Suecia     0.106308\n",
       "Name: escalera_vida, dtype: float64"
      ]
     },
     "execution_count": 233,
     "metadata": {},
     "output_type": "execute_result"
    }
   ],
   "source": [
    "# Seleccionar información de países de interés\n",
    "std_paises = std_pais.loc[[pais_1, pais_2]]\n",
    "std_paises"
   ]
  },
  {
   "cell_type": "code",
   "execution_count": 234,
   "metadata": {},
   "outputs": [
    {
     "name": "stdout",
     "output_type": "stream",
     "text": [
      "Promedio de 'felicidad' para : pais\n",
      "Ecuador    0.394485\n",
      "Suecia     0.106308\n",
      "Name: escalera_vida, dtype: float64\n",
      "Promedio de 'felicidad' mundial: 1.1211490772800061\n"
     ]
    }
   ],
   "source": [
    "print(f\"Promedio de 'felicidad' para : {std_paises}\")\n",
    "print(f\"Promedio de 'felicidad' mundial: {std_mundial}\")"
   ]
  },
  {
   "cell_type": "markdown",
   "metadata": {},
   "source": [
    "##### Conclusión\n",
    " Según los datos obtenidos, la desviación estándar más baja se encuentra en Suecia (0.106308), seguida por Ecuador (0.394485) y el valor más alto es para el mundo en general (1.121149077). Por lo tanto, se puede concluir que, en términos de homogeneidad en los niveles de felicidad, Suecia parece ser el país más feliz, seguido por Ecuador y luego el mundo en general."
   ]
  }
 ],
 "metadata": {
  "kernelspec": {
   "display_name": "modulo_python",
   "language": "python",
   "name": "python3"
  },
  "language_info": {
   "codemirror_mode": {
    "name": "ipython",
    "version": 3
   },
   "file_extension": ".py",
   "mimetype": "text/x-python",
   "name": "python",
   "nbconvert_exporter": "python",
   "pygments_lexer": "ipython3",
   "version": "3.6.15"
  }
 },
 "nbformat": 4,
 "nbformat_minor": 2
}
